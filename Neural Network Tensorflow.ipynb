{
 "cells": [
  {
   "cell_type": "code",
   "execution_count": 58,
   "metadata": {},
   "outputs": [],
   "source": [
    "import numpy as np\n",
    "import scipy as sc\n",
    "import matplotlib.pyplot as plt\n",
    "from sklearn.datasets import make_circles\n",
    "import tensorflow as tf"
   ]
  },
  {
   "cell_type": "code",
   "execution_count": 59,
   "metadata": {},
   "outputs": [
    {
     "data": {
      "text/plain": [
       "<matplotlib.collections.PathCollection at 0x1c49b45cc48>"
      ]
     },
     "execution_count": 59,
     "metadata": {},
     "output_type": "execute_result"
    },
    {
     "data": {
      "image/png": "[encoded data removed]",
      "text/plain": [
       "<Figure size 576x576 with 1 Axes>"
      ]
     },
     "metadata": {
      "needs_background": "light"
     },
     "output_type": "display_data"
    }
   ],
   "source": [
    "X, Y = make_circles(n_samples=500, factor=0.5, noise=0.05)\n",
    "\n",
    "res = 100\n",
    "\n",
    "_x0 = np.linspace(-1.5, 1.5, res)\n",
    "_x1 = np.linspace(-1.5, 1.5, res)\n",
    "\n",
    "_pX = np.array(np.meshgrid(_x0, _x1)).T.reshape(-1, 2)\n",
    "_pY = np.zeros((res,res)) + 0.5\n",
    "\n",
    "plt.figure(figsize=(8, 8))\n",
    "plt.pcolormesh(_x0, _x1, _pY, cmap='Pastel1', vmin=0, vmax=1)\n",
    "\n",
    "plt.scatter(X[Y == 0, 0], X[Y == 0, 1], c='skyblue')\n",
    "plt.scatter(X[Y == 1, 0], X[Y == 1, 1], c = 'salmon')"
   ]
  },
  {
   "cell_type": "code",
   "execution_count": 60,
   "metadata": {},
   "outputs": [],
   "source": [
    "iX = tf.placeholder('float', shape=[None, X.shape[1]])\n",
    "iY = tf.placeholder('float', shape=[None])\n",
    "\n",
    "lr = 0.01\n",
    "nn = [2, 16, 8, 1]"
   ]
  },
  {
   "cell_type": "code",
   "execution_count": 61,
   "metadata": {},
   "outputs": [],
   "source": [
    "W1 = tf.Variable(tf.random_normal([nn[0], nn[1]]), name='Weights_1')\n",
    "b1 = tf.Variable(tf.random_normal([nn[1]]), name='bias_1')\n",
    "\n",
    "l1 = tf.nn.relu(tf.add(tf.matmul(iX, W1), b1))\n",
    "\n",
    "\n",
    "W2 = tf.Variable(tf.random_normal([nn[1], nn[2]]), name='Weights_2')\n",
    "b2 = tf.Variable(tf.random_normal([nn[2]]), name='bias_2')\n",
    "\n",
    "l2 = tf.nn.relu(tf.add(tf.matmul(l1, W2), b2))\n",
    "\n",
    "\n",
    "W3 = tf.Variable(tf.random_normal([nn[2], nn[3]]), name='Weights_3')\n",
    "b3 = tf.Variable(tf.random_normal([nn[3]]), name='bias_3')"
   ]
  },
  {
   "cell_type": "code",
   "execution_count": 62,
   "metadata": {},
   "outputs": [],
   "source": [
    "pY = tf.nn.sigmoid(tf.add(tf.matmul(l2, W3), b3))[:, 0]"
   ]
  },
  {
   "cell_type": "code",
   "execution_count": 63,
   "metadata": {},
   "outputs": [],
   "source": [
    "loss = tf.losses.mean_squared_error(pY, iY)\n",
    "\n",
    "optimizer = tf.train.GradientDescentOptimizer(learning_rate=0.05).minimize(loss)\n",
    "\n",
    "n_steps = 1000\n",
    "\n",
    "iPY = []"
   ]
  },
  {
   "cell_type": "code",
   "execution_count": 65,
   "metadata": {},
   "outputs": [
    {
     "name": "stdout",
     "output_type": "stream",
     "text": [
      "Step  0 /  1000  - loss 0.4475815  - acc 0.498\n",
      "Step  25 /  1000  - loss 0.3717567  - acc 0.602\n",
      "Step  50 /  1000  - loss 0.3529674  - acc 0.63\n",
      "Step  75 /  1000  - loss 0.33846247  - acc 0.636\n",
      "Step  100 /  1000  - loss 0.31843448  - acc 0.658\n",
      "Step  125 /  1000  - loss 0.2740511  - acc 0.704\n",
      "Step  150 /  1000  - loss 0.2459141  - acc 0.756\n",
      "Step  175 /  1000  - loss 0.23129569  - acc 0.784\n",
      "Step  200 /  1000  - loss 0.22062802  - acc 0.802\n",
      "Step  225 /  1000  - loss 0.21087861  - acc 0.814\n",
      "Step  250 /  1000  - loss 0.19576631  - acc 0.82\n",
      "Step  275 /  1000  - loss 0.16699128  - acc 0.844\n",
      "Step  300 /  1000  - loss 0.041379116  - acc 0.996\n",
      "Step  325 /  1000  - loss 0.026139133  - acc 1.0\n",
      "Step  350 /  1000  - loss 0.02220705  - acc 1.0\n",
      "Step  375 /  1000  - loss 0.01960293  - acc 1.0\n",
      "Step  400 /  1000  - loss 0.017629161  - acc 1.0\n",
      "Step  425 /  1000  - loss 0.016035898  - acc 1.0\n",
      "Step  450 /  1000  - loss 0.014709397  - acc 1.0\n",
      "Step  475 /  1000  - loss 0.013591412  - acc 1.0\n",
      "Step  500 /  1000  - loss 0.012638586  - acc 1.0\n",
      "Step  525 /  1000  - loss 0.0118065765  - acc 1.0\n",
      "Step  550 /  1000  - loss 0.011071831  - acc 1.0\n",
      "Step  575 /  1000  - loss 0.010422173  - acc 1.0\n",
      "Step  600 /  1000  - loss 0.009843773  - acc 1.0\n",
      "Step  625 /  1000  - loss 0.009317386  - acc 1.0\n",
      "Step  650 /  1000  - loss 0.008828109  - acc 1.0\n",
      "Step  675 /  1000  - loss 0.00838152  - acc 1.0\n",
      "Step  700 /  1000  - loss 0.007977688  - acc 1.0\n",
      "Step  725 /  1000  - loss 0.007611768  - acc 1.0\n",
      "Step  750 /  1000  - loss 0.007276835  - acc 1.0\n",
      "Step  775 /  1000  - loss 0.0069674714  - acc 1.0\n",
      "Step  800 /  1000  - loss 0.0066835945  - acc 1.0\n",
      "Step  825 /  1000  - loss 0.00642153  - acc 1.0\n",
      "Step  850 /  1000  - loss 0.006177822  - acc 1.0\n",
      "Step  875 /  1000  - loss 0.0059514404  - acc 1.0\n",
      "Step  900 /  1000  - loss 0.005740505  - acc 1.0\n",
      "Step  925 /  1000  - loss 0.0055434927  - acc 1.0\n",
      "Step  950 /  1000  - loss 0.0053587006  - acc 1.0\n",
      "Step  975 /  1000  - loss 0.005184289  - acc 1.0\n"
     ]
    }
   ],
   "source": [
    "with tf.Session() as sess:\n",
    "    \n",
    "    sess.run(tf.global_variables_initializer())\n",
    "    \n",
    "    for step in range(n_steps):\n",
    "        \n",
    "        _, _loss, _pY = sess.run([optimizer, loss, pY], feed_dict={iX:X, iY:Y})\n",
    "        \n",
    "        if step%25 == 0:\n",
    "            \n",
    "            acc = np.mean(np.round(_pY) == Y)\n",
    "            \n",
    "            print('Step ', step , '/ ', n_steps, ' - loss', _loss, ' - acc', acc)\n",
    "            \n",
    "            _pY = sess.run(pY, feed_dict={iX:_pX}).reshape((res, res))\n",
    "            \n",
    "            iPY.append(_pY)"
   ]
  }
 ],
 "metadata": {
  "kernelspec": {
   "display_name": "Python 3",
   "language": "python",
   "name": "python3"
  },
  "language_info": {
   "codemirror_mode": {
    "name": "ipython",
    "version": 3
   },
   "file_extension": ".py",
   "mimetype": "text/x-python",
   "name": "python",
   "nbconvert_exporter": "python",
   "pygments_lexer": "ipython3",
   "version": "3.7.4"
  }
 },
 "nbformat": 4,
 "nbformat_minor": 2
}
